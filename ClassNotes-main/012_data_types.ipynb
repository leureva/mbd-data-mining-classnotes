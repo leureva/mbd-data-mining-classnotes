{
 "cells": [
  {
   "cell_type": "markdown",
   "id": "32251fdd",
   "metadata": {},
   "source": [
    "## Data Types in Python \n",
    "\n",
    "There are different types of data types in Python. Some built-in Python data types are:\n",
    "\n",
    "* Numeric data types: int, float, complex\n",
    "* String data types: str\n",
    "* Sequence types: list, tuple, range\n",
    "* Binary types: bytes, bytearray, memoryview\n",
    "* Mapping data type: dict\n",
    "* Boolean type: bool\n",
    "* Set data types: set, frozenset\n",
    "\n",
    "\n",
    "## 1.  Numeric o cuantitative (tomar la media tiene sentido) \n",
    "* 1.1 Discrete\n",
    "    * Integer (int) #Stored exactly\n",
    "        * Holds signed integers of non-limited length.\n",
    "        \n",
    "* 1.2 Continuous\n",
    "    * Float (float) #Stored similarly to scientific notation. Allows for decimal places but loses precision.\n",
    "        * holds floating precision numbers and it’s accurate up to 15 decimal places.\n",
    "\n",
    "* 1.3 Complex\n",
    "    * Holds complex numbers."
   ]
  },
  {
   "cell_type": "code",
   "execution_count": 1,
   "id": "0459eb1d",
   "metadata": {},
   "outputs": [],
   "source": [
    "import math"
   ]
  },
  {
   "cell_type": "markdown",
   "id": "857f4ad3",
   "metadata": {},
   "source": [
    "### Integers"
   ]
  },
  {
   "cell_type": "code",
   "execution_count": 3,
   "id": "5d1a1cf7",
   "metadata": {},
   "outputs": [
    {
     "data": {
      "text/plain": [
       "int"
      ]
     },
     "execution_count": 3,
     "metadata": {},
     "output_type": "execute_result"
    }
   ],
   "source": [
    "type(0)"
   ]
  },
  {
   "cell_type": "code",
   "execution_count": 4,
   "id": "d0dcfc70",
   "metadata": {},
   "outputs": [
    {
     "data": {
      "text/plain": [
       "int"
      ]
     },
     "execution_count": 4,
     "metadata": {},
     "output_type": "execute_result"
    }
   ],
   "source": [
    "type(-3)\n"
   ]
  },
  {
   "cell_type": "markdown",
   "id": "17c27763",
   "metadata": {},
   "source": [
    "### Lists \n",
    "\n",
    "Try taking the mean"
   ]
  },
  {
   "cell_type": "code",
   "execution_count": 2,
   "id": "5cfa6a81",
   "metadata": {},
   "outputs": [
    {
     "name": "stdout",
     "output_type": "stream",
     "text": [
      "3.5\n"
     ]
    },
    {
     "data": {
      "text/plain": [
       "float"
      ]
     },
     "execution_count": 2,
     "metadata": {},
     "output_type": "execute_result"
    }
   ],
   "source": [
    "numbers = [2, 3, 4, 5]\n",
    "print(sum(numbers)/len(numbers))\n",
    "type(sum(numbers)/len(numbers)) #In Python 3 returns float, but in Python 2 would return int"
   ]
  },
  {
   "cell_type": "code",
   "execution_count": 3,
   "id": "88f0ff59",
   "metadata": {},
   "outputs": [
    {
     "data": {
      "text/plain": [
       "[2, 4]"
      ]
     },
     "execution_count": 3,
     "metadata": {},
     "output_type": "execute_result"
    }
   ],
   "source": [
    "numbers[0::2]"
   ]
  },
  {
   "cell_type": "markdown",
   "id": "8dad8d18",
   "metadata": {},
   "source": [
    "###  **Floats**\n",
    "\n",
    " \n",
    "\n",
    "\n"
   ]
  },
  {
   "cell_type": "code",
   "execution_count": 7,
   "id": "93920e0e",
   "metadata": {},
   "outputs": [
    {
     "data": {
      "text/plain": [
       "0.6"
      ]
     },
     "execution_count": 7,
     "metadata": {},
     "output_type": "execute_result"
    }
   ],
   "source": [
    "3/5"
   ]
  },
  {
   "cell_type": "code",
   "execution_count": 8,
   "id": "e6a2034c",
   "metadata": {},
   "outputs": [
    {
     "data": {
      "text/plain": [
       "0.6000000000000001"
      ]
     },
     "execution_count": 8,
     "metadata": {},
     "output_type": "execute_result"
    }
   ],
   "source": [
    "6*10**(-1) # 6 x 10 ^(-1) = 0.60 "
   ]
  },
  {
   "cell_type": "code",
   "execution_count": 9,
   "id": "27a95e2f",
   "metadata": {},
   "outputs": [
    {
     "data": {
      "text/plain": [
       "float"
      ]
     },
     "execution_count": 9,
     "metadata": {},
     "output_type": "execute_result"
    }
   ],
   "source": [
    "type(3/5)"
   ]
  },
  {
   "cell_type": "code",
   "execution_count": 10,
   "id": "043b7798",
   "metadata": {},
   "outputs": [
    {
     "name": "stdout",
     "output_type": "stream",
     "text": [
      "3.141592653589793\n"
     ]
    },
    {
     "data": {
      "text/plain": [
       "float"
      ]
     },
     "execution_count": 10,
     "metadata": {},
     "output_type": "execute_result"
    }
   ],
   "source": [
    "print(math.pi)\n",
    "type(math.pi)"
   ]
  },
  {
   "cell_type": "code",
   "execution_count": 11,
   "id": "69623993",
   "metadata": {},
   "outputs": [
    {
     "data": {
      "text/plain": [
       "float"
      ]
     },
     "execution_count": 11,
     "metadata": {},
     "output_type": "execute_result"
    }
   ],
   "source": [
    "type(4.0)"
   ]
  },
  {
   "cell_type": "code",
   "execution_count": 12,
   "id": "664528db",
   "metadata": {},
   "outputs": [
    {
     "data": {
      "text/plain": [
       "float"
      ]
     },
     "execution_count": 12,
     "metadata": {},
     "output_type": "execute_result"
    }
   ],
   "source": [
    "numbers = [math.pi, 3/5, 4.1]\n",
    "type(sum(numbers))"
   ]
  },
  {
   "cell_type": "markdown",
   "id": "49356221",
   "metadata": {},
   "source": [
    " ## 2. Categorical or Qualitative\n",
    " * 2.1 Nominal\n",
    "     * Boolean (bool)\n",
    "     * String (str)\n",
    "     * None (NoneType)\n",
    "     \n",
    "     Nominal data is data that can be labelled or classified into mutually exclusive categories within a variable. These categories cannot be ordered in a meaningful way.\n",
    "\n",
    "          \n",
    "          For example, for the nominal variable of preferred mode of transportation, you may have the categories of car, bus, train, tram or bicycle.\n",
    "\n",
    "\n",
    " * 2.2 Ordinal\n",
    "     * Only defined by how you use the data\n",
    "     * Often important when creating visuals\n",
    "     * Lists can hold ordinal information because they have indices\n",
    "\n",
    "    Ordinal data is a kind of categorical data with a set order or scale to it. \n",
    "    \n",
    "    For example, ordinal data is said to have been collected when a responder inputs his/her financial happiness level on a scale of 1-10. \n",
    "    \n",
    "    In ordinal data, there is no standard scale on which the difference in each score is measured.\n",
    "\n",
    "    Considering the example highlighted above, let us assume that 50 people earning between \\\\$1000 to \\\\$10000 monthly were asked to rate their level of financial happiness. \n",
    "\n",
    "        An undergraduate earning &#36; 2000 monthly may be on an 8/10 scale, while a father of 3 earning \\\\$ 5000 rates 3/10. This is to show that the scale is usually influenced by personal factors and not due to a set rule.\n"
   ]
  },
  {
   "cell_type": "markdown",
   "id": "295dee23",
   "metadata": {},
   "source": [
    "### **Boolean**\n",
    " "
   ]
  },
  {
   "cell_type": "code",
   "execution_count": 4,
   "id": "4bfe30b5",
   "metadata": {},
   "outputs": [
    {
     "data": {
      "text/plain": [
       "bool"
      ]
     },
     "execution_count": 4,
     "metadata": {},
     "output_type": "execute_result"
    }
   ],
   "source": [
    "type(True)"
   ]
  },
  {
   "cell_type": "code",
   "execution_count": 5,
   "id": "763e41d6",
   "metadata": {},
   "outputs": [
    {
     "data": {
      "text/plain": [
       "bool"
      ]
     },
     "execution_count": 5,
     "metadata": {},
     "output_type": "execute_result"
    }
   ],
   "source": [
    "type(bool('yes'))"
   ]
  },
  {
   "cell_type": "markdown",
   "id": "3e517512",
   "metadata": {},
   "source": [
    "Creating a conditional statement as : "
   ]
  },
  {
   "cell_type": "code",
   "execution_count": 6,
   "id": "d1a43efd",
   "metadata": {},
   "outputs": [
    {
     "name": "stdout",
     "output_type": "stream",
     "text": [
      "6 es menor que 7\n",
      "Mensaje predefinido\n"
     ]
    }
   ],
   "source": [
    "x = 6\n",
    "y = 7\n",
    "if x < y:\n",
    "    print(\"{} es menor que {}\".format(x,y))\n",
    "print('Mensaje predefinido') # default message. "
   ]
  },
  {
   "cell_type": "code",
   "execution_count": 9,
   "id": "b84b5830",
   "metadata": {},
   "outputs": [
    {
     "name": "stdout",
     "output_type": "stream",
     "text": [
      "6 es menor que 7\n"
     ]
    }
   ],
   "source": [
    "if x < y:\n",
    "    print(\"{} es menor que {}\".format(x,y))\n",
    "else:\n",
    "    print(x, \"es mejor que\", y)"
   ]
  },
  {
   "cell_type": "markdown",
   "id": "6bcb73e2",
   "metadata": {},
   "source": [
    "To print each element in a list and it's types as well: "
   ]
  },
  {
   "cell_type": "code",
   "execution_count": 10,
   "id": "919ef3fd",
   "metadata": {},
   "outputs": [
    {
     "name": "stdout",
     "output_type": "stream",
     "text": [
      "True \t <class 'bool'>\n",
      "False \t <class 'bool'>\n",
      "False \t <class 'bool'>\n",
      "True \t <class 'bool'>\n"
     ]
    }
   ],
   "source": [
    "myList = [True, 6<5, 1==3, None is None]\n",
    "\n",
    "for element in myList:\n",
    "    print(element, '\\t', type(element))"
   ]
  },
  {
   "cell_type": "code",
   "execution_count": 11,
   "id": "ff00d033",
   "metadata": {},
   "outputs": [
    {
     "name": "stdout",
     "output_type": "stream",
     "text": [
      "Mean is :\t 0.5\n"
     ]
    },
    {
     "data": {
      "text/plain": [
       "float"
      ]
     },
     "execution_count": 11,
     "metadata": {},
     "output_type": "execute_result"
    }
   ],
   "source": [
    "print('Mean is :\\t', sum(myList)/len(myList))\n",
    "type(sum(myList)/len(myList))\n",
    "#np.average(myList)"
   ]
  },
  {
   "cell_type": "code",
   "execution_count": 12,
   "id": "f9b3260b",
   "metadata": {},
   "outputs": [
    {
     "data": {
      "text/plain": [
       "[1, 2, 3, 4]"
      ]
     },
     "execution_count": 12,
     "metadata": {},
     "output_type": "execute_result"
    }
   ],
   "source": [
    "a = [1, 2, 3, 4]\n",
    "a"
   ]
  },
  {
   "cell_type": "code",
   "execution_count": 13,
   "id": "9fe4b179",
   "metadata": {},
   "outputs": [
    {
     "name": "stdout",
     "output_type": "stream",
     "text": [
      "1 2 3 4\n",
      "____________________________________________________________________________________________________\n",
      "1\t***\t2\t***\t3\t***\t4\n",
      "____________________________________________________________________________________________________\n",
      "1\n",
      "2\n",
      "3\n",
      "4\n"
     ]
    }
   ],
   "source": [
    "print(*a)\n",
    "print('_'*100)\n",
    "print(*a, sep = '\\t***\\t')\n",
    "print('_'*100)\n",
    "print(*a, sep = '\\n')"
   ]
  },
  {
   "cell_type": "code",
   "execution_count": 14,
   "id": "6305d547",
   "metadata": {},
   "outputs": [
    {
     "name": "stdout",
     "output_type": "stream",
     "text": [
      "True False False True\n",
      "____________________________________________________________________________________________________\n",
      "True\t***\tFalse\t***\tFalse\t***\tTrue\n",
      "____________________________________________________________________________________________________\n",
      "True\n",
      "False\n",
      "False\n",
      "True\n"
     ]
    }
   ],
   "source": [
    "print(*myList)\n",
    "print('_'*100)\n",
    "print(*myList, sep = '\\t***\\t')\n",
    "print('_'*100)\n",
    "print(*myList, sep = '\\n')"
   ]
  },
  {
   "cell_type": "code",
   "execution_count": 16,
   "id": "1d156027",
   "metadata": {},
   "outputs": [
    {
     "data": {
      "text/plain": [
       "[1, 2, 3, 4]"
      ]
     },
     "execution_count": 16,
     "metadata": {},
     "output_type": "execute_result"
    }
   ],
   "source": [
    "a"
   ]
  },
  {
   "cell_type": "markdown",
   "id": "023296b3",
   "metadata": {},
   "source": [
    "Joining the elements in the list `a`, with  `\\n**` in between each element: "
   ]
  },
  {
   "cell_type": "code",
   "execution_count": 17,
   "id": "581abfa4",
   "metadata": {},
   "outputs": [
    {
     "name": "stdout",
     "output_type": "stream",
     "text": [
      "1\n",
      "**2\n",
      "**3\n",
      "**4\n"
     ]
    }
   ],
   "source": [
    "print('\\n**'.join(map(str, a)))"
   ]
  },
  {
   "cell_type": "markdown",
   "id": "832d2f49",
   "metadata": {},
   "source": [
    "### **String**\n",
    "\n",
    "The string is a sequence of characters. Python supports Unicode characters. Generally, strings are represented by either single or double-quotes."
   ]
  },
  {
   "cell_type": "code",
   "execution_count": 18,
   "id": "0c8f0425",
   "metadata": {},
   "outputs": [
    {
     "data": {
      "text/plain": [
       "str"
      ]
     },
     "execution_count": 18,
     "metadata": {},
     "output_type": "execute_result"
    }
   ],
   "source": [
    "type(\"This sentence makes sense\")"
   ]
  },
  {
   "cell_type": "code",
   "execution_count": 19,
   "id": "9011e599",
   "metadata": {},
   "outputs": [
    {
     "data": {
      "text/plain": [
       "str"
      ]
     },
     "execution_count": 19,
     "metadata": {},
     "output_type": "execute_result"
    }
   ],
   "source": [
    "type(\"Makes sentense this sense\")"
   ]
  },
  {
   "cell_type": "code",
   "execution_count": 22,
   "id": "7b0f0519",
   "metadata": {},
   "outputs": [],
   "source": [
    "import math"
   ]
  },
  {
   "cell_type": "code",
   "execution_count": 23,
   "id": "88759847",
   "metadata": {},
   "outputs": [
    {
     "name": "stdout",
     "output_type": "stream",
     "text": [
      "3.141592653589793\n"
     ]
    },
    {
     "data": {
      "text/plain": [
       "float"
      ]
     },
     "execution_count": 23,
     "metadata": {},
     "output_type": "execute_result"
    }
   ],
   "source": [
    "print(math.pi)\n",
    "type(math.pi)"
   ]
  },
  {
   "cell_type": "code",
   "execution_count": 24,
   "id": "67c36c62",
   "metadata": {},
   "outputs": [
    {
     "name": "stdout",
     "output_type": "stream",
     "text": [
      "math.pi\n"
     ]
    },
    {
     "data": {
      "text/plain": [
       "str"
      ]
     },
     "execution_count": 24,
     "metadata": {},
     "output_type": "execute_result"
    }
   ],
   "source": [
    "print(\"math.pi\")\n",
    "type(\"math.pi\")"
   ]
  },
  {
   "cell_type": "code",
   "execution_count": 25,
   "id": "21317285",
   "metadata": {},
   "outputs": [
    {
     "data": {
      "text/plain": [
       "['dog', 'koala', 'goose']"
      ]
     },
     "execution_count": 25,
     "metadata": {},
     "output_type": "execute_result"
    }
   ],
   "source": [
    "str_list = ['dog', 'koala', 'goose']\n",
    "#sum(strList)/len(strList)\n",
    "str_list"
   ]
  },
  {
   "cell_type": "code",
   "execution_count": 26,
   "id": "c2dd56da",
   "metadata": {},
   "outputs": [
    {
     "data": {
      "text/plain": [
       "3"
      ]
     },
     "execution_count": 26,
     "metadata": {},
     "output_type": "execute_result"
    }
   ],
   "source": [
    "len(str_list)"
   ]
  },
  {
   "cell_type": "markdown",
   "id": "7b865cd6",
   "metadata": {},
   "source": [
    "### **Nonetype**"
   ]
  },
  {
   "cell_type": "code",
   "execution_count": 27,
   "id": "ab3e1bd8",
   "metadata": {},
   "outputs": [
    {
     "data": {
      "text/plain": [
       "NoneType"
      ]
     },
     "execution_count": 27,
     "metadata": {},
     "output_type": "execute_result"
    }
   ],
   "source": [
    "# None\n",
    "type(None)"
   ]
  },
  {
   "cell_type": "markdown",
   "id": "25faa8e2",
   "metadata": {},
   "source": [
    "type(none) # will give us an Error, since `none` starts with small letter 'n'"
   ]
  },
  {
   "cell_type": "code",
   "execution_count": 29,
   "id": "b5cdd520",
   "metadata": {},
   "outputs": [
    {
     "data": {
      "text/plain": [
       "NoneType"
      ]
     },
     "execution_count": 29,
     "metadata": {},
     "output_type": "execute_result"
    }
   ],
   "source": [
    "x = None\n",
    "type(x)"
   ]
  },
  {
   "cell_type": "code",
   "execution_count": 30,
   "id": "8b0eabc3",
   "metadata": {},
   "outputs": [
    {
     "data": {
      "text/plain": [
       "5"
      ]
     },
     "execution_count": 30,
     "metadata": {},
     "output_type": "execute_result"
    }
   ],
   "source": [
    "none_list = [None]*5\n",
    "#sum(none_list)/len(none_list)\n",
    "len(none_list)"
   ]
  },
  {
   "cell_type": "code",
   "execution_count": 31,
   "id": "56061655",
   "metadata": {},
   "outputs": [
    {
     "data": {
      "text/plain": [
       "[None, None, None, None, None]"
      ]
     },
     "execution_count": 31,
     "metadata": {},
     "output_type": "execute_result"
    }
   ],
   "source": [
    "none_list"
   ]
  },
  {
   "cell_type": "code",
   "execution_count": 32,
   "id": "54b8a20a",
   "metadata": {},
   "outputs": [
    {
     "name": "stdout",
     "output_type": "stream",
     "text": [
      "[None, None, None, None, None]\n"
     ]
    }
   ],
   "source": [
    "print(none_list)"
   ]
  },
  {
   "cell_type": "markdown",
   "id": "802e4a66",
   "metadata": {},
   "source": [
    "### **Lists**\n",
    "\n",
    "Una lista puede contener muchos tipos y también se puede utilizar para almacenar información ordinal.\n",
    "\n",
    "The list in Python is it can simultaneously hold different types of data. Formally list is an ordered sequence of some data written using square brackets([]) and commas(,).\n"
   ]
  },
  {
   "cell_type": "code",
   "execution_count": 34,
   "id": "427adb9f",
   "metadata": {},
   "outputs": [
    {
     "name": "stdout",
     "output_type": "stream",
     "text": [
      "<class 'int'>\n",
      "<class 'float'>\n",
      "<class 'str'>\n",
      "<class 'NoneType'>\n",
      "my_list is : \t 1 1.1 This is a sentence None\n"
     ]
    }
   ],
   "source": [
    "my_list = [1, 1.1, \"This is a sentence\", None]\n",
    "\n",
    "for i in my_list:\n",
    "    print(type(i))\n",
    "    \n",
    "print('my_list is : \\t', *my_list)"
   ]
  },
  {
   "cell_type": "code",
   "execution_count": 35,
   "id": "99fa9449",
   "metadata": {},
   "outputs": [
    {
     "data": {
      "text/plain": [
       "4"
      ]
     },
     "execution_count": 35,
     "metadata": {},
     "output_type": "execute_result"
    }
   ],
   "source": [
    "len(my_list)"
   ]
  },
  {
   "cell_type": "code",
   "execution_count": 36,
   "id": "519997bc",
   "metadata": {},
   "outputs": [
    {
     "data": {
      "text/plain": [
       "[1, 1.1, 'This is a sentence', None]"
      ]
     },
     "execution_count": 36,
     "metadata": {},
     "output_type": "execute_result"
    }
   ],
   "source": [
    " my_list"
   ]
  },
  {
   "cell_type": "code",
   "execution_count": 37,
   "id": "5d79e28c",
   "metadata": {},
   "outputs": [
    {
     "name": "stdout",
     "output_type": "stream",
     "text": [
      "Element\t\tType\n",
      "---------- \t ---------------\n",
      "1 \t\t <class 'int'>\n",
      "2 \t\t <class 'int'>\n",
      "3 \t\t <class 'int'>\n"
     ]
    },
    {
     "data": {
      "text/plain": [
       "[1, 2, 3]"
      ]
     },
     "execution_count": 37,
     "metadata": {},
     "output_type": "execute_result"
    }
   ],
   "source": [
    "# List\n",
    "\n",
    "my_list = [1, 2, 3]\n",
    "\n",
    "print('Element\\t\\tType')\n",
    "print('-'*10, '\\t', '-'*15)\n",
    "\n",
    "for i in my_list:\n",
    "    print(i,'\\t\\t', type(i))\n",
    "    \n",
    "my_list"
   ]
  },
  {
   "cell_type": "code",
   "execution_count": 38,
   "id": "95490858",
   "metadata": {},
   "outputs": [
    {
     "data": {
      "text/plain": [
       "2.0"
      ]
     },
     "execution_count": 38,
     "metadata": {},
     "output_type": "execute_result"
    }
   ],
   "source": [
    "sum(my_list)/len(my_list) # note that this outputs a float"
   ]
  },
  {
   "cell_type": "code",
   "execution_count": 39,
   "id": "503e1340",
   "metadata": {},
   "outputs": [
    {
     "data": {
      "text/plain": [
       "'f'"
      ]
     },
     "execution_count": 39,
     "metadata": {},
     "output_type": "execute_result"
    }
   ],
   "source": [
    "my_list = ['f', 'a', 'c', 'b', 'df', 'ee']\n",
    "my_list[0]"
   ]
  },
  {
   "cell_type": "markdown",
   "id": "f1a5c023",
   "metadata": {},
   "source": [
    "Sorting a list"
   ]
  },
  {
   "cell_type": "code",
   "execution_count": 41,
   "id": "b7bc721e",
   "metadata": {},
   "outputs": [
    {
     "name": "stdout",
     "output_type": "stream",
     "text": [
      "a b c df ee f\n"
     ]
    }
   ],
   "source": [
    "my_list.sort()\n",
    "print(*my_list)"
   ]
  },
  {
   "cell_type": "markdown",
   "id": "0b975fe6",
   "metadata": {},
   "source": [
    "From begining to 2(pos 2 not included): "
   ]
  },
  {
   "cell_type": "code",
   "execution_count": 42,
   "id": "641934fa",
   "metadata": {},
   "outputs": [
    {
     "data": {
      "text/plain": [
       "['a', 'b']"
      ]
     },
     "execution_count": 42,
     "metadata": {},
     "output_type": "execute_result"
    }
   ],
   "source": [
    "my_list[:2] "
   ]
  },
  {
   "cell_type": "markdown",
   "id": "11333db0",
   "metadata": {},
   "source": [
    "From position 2 to end: "
   ]
  },
  {
   "cell_type": "code",
   "execution_count": 43,
   "id": "bcd27622",
   "metadata": {},
   "outputs": [
    {
     "data": {
      "text/plain": [
       "['c', 'df', 'ee', 'f']"
      ]
     },
     "execution_count": 43,
     "metadata": {},
     "output_type": "execute_result"
    }
   ],
   "source": [
    "my_list[2:] "
   ]
  },
  {
   "cell_type": "markdown",
   "id": "f9eb342e",
   "metadata": {},
   "source": [
    "From begining to end"
   ]
  },
  {
   "cell_type": "code",
   "execution_count": 44,
   "id": "18828270",
   "metadata": {},
   "outputs": [
    {
     "data": {
      "text/plain": [
       "['a', 'b', 'c', 'df', 'ee', 'f']"
      ]
     },
     "execution_count": 44,
     "metadata": {},
     "output_type": "execute_result"
    }
   ],
   "source": [
    "my_list[:] "
   ]
  },
  {
   "cell_type": "markdown",
   "id": "dc0ea391",
   "metadata": {},
   "source": [
    "Last of the list:"
   ]
  },
  {
   "cell_type": "code",
   "execution_count": 45,
   "id": "835d1c74",
   "metadata": {},
   "outputs": [
    {
     "data": {
      "text/plain": [
       "'f'"
      ]
     },
     "execution_count": 45,
     "metadata": {},
     "output_type": "execute_result"
    }
   ],
   "source": [
    "my_list[-1]"
   ]
  },
  {
   "cell_type": "markdown",
   "id": "019ba1e0",
   "metadata": {},
   "source": [
    "From begining to second last(not included) element."
   ]
  },
  {
   "cell_type": "code",
   "execution_count": 46,
   "id": "bbf5bc52",
   "metadata": {},
   "outputs": [
    {
     "data": {
      "text/plain": [
       "['a', 'b', 'c', 'df']"
      ]
     },
     "execution_count": 46,
     "metadata": {},
     "output_type": "execute_result"
    }
   ],
   "source": [
    "my_list[:-2]  "
   ]
  },
  {
   "cell_type": "markdown",
   "id": "d1cb6a0d",
   "metadata": {},
   "source": [
    "From second last (included) to end:"
   ]
  },
  {
   "cell_type": "code",
   "execution_count": 47,
   "id": "52738360",
   "metadata": {},
   "outputs": [
    {
     "data": {
      "text/plain": [
       "['ee', 'f']"
      ]
     },
     "execution_count": 47,
     "metadata": {},
     "output_type": "execute_result"
    }
   ],
   "source": [
    "my_list[-2:]  "
   ]
  },
  {
   "cell_type": "markdown",
   "id": "e2e692a4",
   "metadata": {},
   "source": [
    "## Tuple\n",
    "\n",
    "The tuple is another data type which is a sequence of data similar to a list. But it is immutable. That means data in a tuple is write-protected. Data in a tuple is written using parenthesis and commas."
   ]
  },
  {
   "cell_type": "code",
   "execution_count": 48,
   "id": "a6c65a44",
   "metadata": {},
   "outputs": [
    {
     "name": "stdout",
     "output_type": "stream",
     "text": [
      "(1, 2, 3, 4)\n",
      "('hello', 1, 2, 3, 'go')\n",
      "go\n"
     ]
    }
   ],
   "source": [
    "#tuple having only integer type of data.\n",
    "a=(1,2,3,4)\n",
    "print(a) #prints the whole tuple\n",
    "\n",
    "#tuple having multiple type of data.\n",
    "b=(\"hello\", 1,2,3,\"go\")\n",
    "print(b) #prints the whole tuple\n",
    "\n",
    "#index of tuples are also 0 based.\n",
    "\n",
    "print(b[4]) #this prints a single element in a tuple, in this case \"go\""
   ]
  },
  {
   "cell_type": "markdown",
   "id": "5f07d6eb",
   "metadata": {},
   "source": [
    "## Dictionary\n",
    "\n",
    "Python Dictionary is an unordered sequence of data of key-value pair form. It is similar to the hash table type. Dictionaries are written within curly braces in the form key:value. It is very useful to retrieve data in an optimized way among a large amount of data."
   ]
  },
  {
   "cell_type": "code",
   "execution_count": 49,
   "id": "09b73922",
   "metadata": {},
   "outputs": [
    {
     "name": "stdout",
     "output_type": "stream",
     "text": [
      "first name\n",
      "last name\n",
      "33\n"
     ]
    }
   ],
   "source": [
    "a = {1:\"first name\",2:\"last name\", \"age\":33}\n",
    "\n",
    "#print value having key=1\n",
    "print(a[1])\n",
    "#print value having key=2\n",
    "print(a[2])\n",
    "#print value having key=\"age\"\n",
    "print(a[\"age\"])"
   ]
  },
  {
   "cell_type": "markdown",
   "id": "b25045cc",
   "metadata": {},
   "source": [
    "There are more datatypes available when using different libraries such as Pandas and Numpy, which we will introduce to you as we use them."
   ]
  },
  {
   "cell_type": "markdown",
   "id": "b4666db1",
   "metadata": {},
   "source": [
    "<!--NAVIGATION-->\n",
    "< [Previous](https://github.com/Egade/ClassNotes/blob/main/011_Input_Output_History.ipynb) | [Toc](https://github.com/Egade/ClassNotes) | [Next](https://github.com/Egade/ClassNotes/blob/main/013_arrays.ipynb) >"
   ]
  }
 ],
 "metadata": {
  "kernelspec": {
   "display_name": "Python 3 (ipykernel)",
   "language": "python",
   "name": "python3"
  },
  "language_info": {
   "codemirror_mode": {
    "name": "ipython",
    "version": 3
   },
   "file_extension": ".py",
   "mimetype": "text/x-python",
   "name": "python",
   "nbconvert_exporter": "python",
   "pygments_lexer": "ipython3",
   "version": "3.9.5"
  }
 },
 "nbformat": 4,
 "nbformat_minor": 5
}
