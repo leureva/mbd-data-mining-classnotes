{
 "cells": [
  {
   "cell_type": "markdown",
   "id": "906c0f65",
   "metadata": {},
   "source": [
    "# Introduction to pivot_table()"
   ]
  },
  {
   "cell_type": "markdown",
   "id": "ab47d561",
   "metadata": {},
   "source": [
    "To create a spreadsheet-style pivot table as a data frame in python, we use `pandas.pivot_table()` function. \n",
    "\n",
    "Syntax\n",
    "\n",
    "pandas.pivot_table(data, \n",
    "    values=None, index=None, columns=None, aggfunc='mean', fill_value=None, margins=False, dropna=True, margins_name='All', observed=False, sort=True)\n",
    "\n",
    "\n",
    "#### Parameters\n",
    "\n",
    "* data: data frame ( Defining the dataset that is to be used for the pivot table.) \n",
    "\n",
    "* values: column to aggregate ( Feature that is to be seen in its statistical summary.)\n",
    "\n",
    "* index: column ( Indexes the value passed in the value argument )\n",
    "\n",
    "* columns: column ( For aggregating values based on certain features )\n",
    "\n",
    "* aggfunc: function or list of functions ( Aggregating functions like sum, mean, etc )\n",
    "\n",
    "* fill_value: scalar ( Value to replace missing values in the table )\n",
    "\n",
    "* margins: bool ( Add all row / columns ( e.g. for subtotal / grand totals ) )\n",
    "\n",
    "* Returns: Dataframe in excel style pivot table."
   ]
  },
  {
   "cell_type": "code",
   "execution_count": 1,
   "id": "fb137c99",
   "metadata": {},
   "outputs": [],
   "source": [
    "import pandas as pd\n",
    "import numpy as np"
   ]
  },
  {
   "cell_type": "code",
   "execution_count": 2,
   "id": "e59acce0",
   "metadata": {},
   "outputs": [
    {
     "data": {
      "text/html": [
       "<div>\n",
       "<style scoped>\n",
       "    .dataframe tbody tr th:only-of-type {\n",
       "        vertical-align: middle;\n",
       "    }\n",
       "\n",
       "    .dataframe tbody tr th {\n",
       "        vertical-align: top;\n",
       "    }\n",
       "\n",
       "    .dataframe thead th {\n",
       "        text-align: right;\n",
       "    }\n",
       "</style>\n",
       "<table border=\"1\" class=\"dataframe\">\n",
       "  <thead>\n",
       "    <tr style=\"text-align: right;\">\n",
       "      <th></th>\n",
       "      <th>Company</th>\n",
       "      <th>Price</th>\n",
       "      <th>Weight</th>\n",
       "      <th>Length</th>\n",
       "      <th>Made</th>\n",
       "    </tr>\n",
       "  </thead>\n",
       "  <tbody>\n",
       "    <tr>\n",
       "      <th>0</th>\n",
       "      <td>Ford</td>\n",
       "      <td>2</td>\n",
       "      <td>4.0</td>\n",
       "      <td>6.0</td>\n",
       "      <td>China</td>\n",
       "    </tr>\n",
       "    <tr>\n",
       "      <th>1</th>\n",
       "      <td>Ford</td>\n",
       "      <td>3</td>\n",
       "      <td>6.0</td>\n",
       "      <td>7.0</td>\n",
       "      <td>Mexico</td>\n",
       "    </tr>\n",
       "    <tr>\n",
       "      <th>2</th>\n",
       "      <td>VW</td>\n",
       "      <td>1</td>\n",
       "      <td>2.0</td>\n",
       "      <td>3.0</td>\n",
       "      <td>Mexico</td>\n",
       "    </tr>\n",
       "    <tr>\n",
       "      <th>3</th>\n",
       "      <td>Audi</td>\n",
       "      <td>2</td>\n",
       "      <td>2.0</td>\n",
       "      <td>6.0</td>\n",
       "      <td>Correa</td>\n",
       "    </tr>\n",
       "    <tr>\n",
       "      <th>4</th>\n",
       "      <td>Audi</td>\n",
       "      <td>3</td>\n",
       "      <td>4.0</td>\n",
       "      <td>8.0</td>\n",
       "      <td>UK</td>\n",
       "    </tr>\n",
       "    <tr>\n",
       "      <th>5</th>\n",
       "      <td>Ford</td>\n",
       "      <td>1</td>\n",
       "      <td>NaN</td>\n",
       "      <td>NaN</td>\n",
       "      <td>NaT</td>\n",
       "    </tr>\n",
       "  </tbody>\n",
       "</table>\n",
       "</div>"
      ],
      "text/plain": [
       "  Company  Price  Weight  Length    Made\n",
       "0    Ford      2     4.0     6.0   China\n",
       "1    Ford      3     6.0     7.0  Mexico\n",
       "2      VW      1     2.0     3.0  Mexico\n",
       "3    Audi      2     2.0     6.0  Correa\n",
       "4    Audi      3     4.0     8.0      UK\n",
       "5    Ford      1     NaN     NaN     NaT"
      ]
     },
     "execution_count": 2,
     "metadata": {},
     "output_type": "execute_result"
    }
   ],
   "source": [
    "x = {'Company': ['Ford', 'Ford', 'VW', 'Audi', 'Audi', 'Ford'], \n",
    "     'Price': [2, 3, 1, 2, 3, 1],\n",
    "     'Weight': [4, 6, 2, 2, 4, None], \n",
    "     'Length': [6, 7, 3, 6, 8, np.nan],\n",
    "     'Made': ['China', 'Mexico', 'Mexico', 'Correa', 'UK', pd.NaT]\n",
    "    }\n",
    "df = pd.DataFrame(data = x)\n",
    "df"
   ]
  },
  {
   "cell_type": "markdown",
   "id": "3b5391c1",
   "metadata": {},
   "source": [
    "### What is the average Price of Audi cars made in China? "
   ]
  },
  {
   "cell_type": "code",
   "execution_count": 3,
   "id": "a2313e37",
   "metadata": {},
   "outputs": [
    {
     "data": {
      "text/html": [
       "<div>\n",
       "<style scoped>\n",
       "    .dataframe tbody tr th:only-of-type {\n",
       "        vertical-align: middle;\n",
       "    }\n",
       "\n",
       "    .dataframe tbody tr th {\n",
       "        vertical-align: top;\n",
       "    }\n",
       "\n",
       "    .dataframe thead th {\n",
       "        text-align: right;\n",
       "    }\n",
       "</style>\n",
       "<table border=\"1\" class=\"dataframe\">\n",
       "  <thead>\n",
       "    <tr style=\"text-align: right;\">\n",
       "      <th></th>\n",
       "      <th>Length</th>\n",
       "      <th>Price</th>\n",
       "      <th>Weight</th>\n",
       "    </tr>\n",
       "    <tr>\n",
       "      <th>Company</th>\n",
       "      <th></th>\n",
       "      <th></th>\n",
       "      <th></th>\n",
       "    </tr>\n",
       "  </thead>\n",
       "  <tbody>\n",
       "    <tr>\n",
       "      <th>Audi</th>\n",
       "      <td>7.0</td>\n",
       "      <td>2.5</td>\n",
       "      <td>3.0</td>\n",
       "    </tr>\n",
       "    <tr>\n",
       "      <th>Ford</th>\n",
       "      <td>6.5</td>\n",
       "      <td>2.0</td>\n",
       "      <td>5.0</td>\n",
       "    </tr>\n",
       "    <tr>\n",
       "      <th>VW</th>\n",
       "      <td>3.0</td>\n",
       "      <td>1.0</td>\n",
       "      <td>2.0</td>\n",
       "    </tr>\n",
       "  </tbody>\n",
       "</table>\n",
       "</div>"
      ],
      "text/plain": [
       "         Length  Price  Weight\n",
       "Company                       \n",
       "Audi        7.0    2.5     3.0\n",
       "Ford        6.5    2.0     5.0\n",
       "VW          3.0    1.0     2.0"
      ]
     },
     "execution_count": 3,
     "metadata": {},
     "output_type": "execute_result"
    }
   ],
   "source": [
    "pd.pivot_table(df, \n",
    "               index='Company', \n",
    "              )"
   ]
  },
  {
   "cell_type": "code",
   "execution_count": 4,
   "id": "506c66d1",
   "metadata": {},
   "outputs": [
    {
     "data": {
      "text/html": [
       "<div>\n",
       "<style scoped>\n",
       "    .dataframe tbody tr th:only-of-type {\n",
       "        vertical-align: middle;\n",
       "    }\n",
       "\n",
       "    .dataframe tbody tr th {\n",
       "        vertical-align: top;\n",
       "    }\n",
       "\n",
       "    .dataframe thead th {\n",
       "        text-align: right;\n",
       "    }\n",
       "</style>\n",
       "<table border=\"1\" class=\"dataframe\">\n",
       "  <thead>\n",
       "    <tr style=\"text-align: right;\">\n",
       "      <th></th>\n",
       "      <th>Price</th>\n",
       "    </tr>\n",
       "    <tr>\n",
       "      <th>Company</th>\n",
       "      <th></th>\n",
       "    </tr>\n",
       "  </thead>\n",
       "  <tbody>\n",
       "    <tr>\n",
       "      <th>Audi</th>\n",
       "      <td>2.5</td>\n",
       "    </tr>\n",
       "    <tr>\n",
       "      <th>Ford</th>\n",
       "      <td>2.0</td>\n",
       "    </tr>\n",
       "    <tr>\n",
       "      <th>VW</th>\n",
       "      <td>1.0</td>\n",
       "    </tr>\n",
       "  </tbody>\n",
       "</table>\n",
       "</div>"
      ],
      "text/plain": [
       "         Price\n",
       "Company       \n",
       "Audi       2.5\n",
       "Ford       2.0\n",
       "VW         1.0"
      ]
     },
     "execution_count": 4,
     "metadata": {},
     "output_type": "execute_result"
    }
   ],
   "source": [
    "pd.pivot_table(df, \n",
    "               index='Company', \n",
    "               values = 'Price'\n",
    "              )"
   ]
  },
  {
   "cell_type": "code",
   "execution_count": 5,
   "id": "e3896ea6",
   "metadata": {},
   "outputs": [],
   "source": [
    "x = pd.pivot_table(df, \n",
    "               index='Company', \n",
    "               values='Price', # will do the average of each a, b, c, d\n",
    "               aggfunc = 'sum',\n",
    "               #aggfunc =  ['sum', 'mean', 'count'],\n",
    "               margins = True\n",
    "              )#.head()"
   ]
  },
  {
   "cell_type": "code",
   "execution_count": 6,
   "id": "cf40f2db",
   "metadata": {},
   "outputs": [
    {
     "data": {
      "text/html": [
       "<div>\n",
       "<style scoped>\n",
       "    .dataframe tbody tr th:only-of-type {\n",
       "        vertical-align: middle;\n",
       "    }\n",
       "\n",
       "    .dataframe tbody tr th {\n",
       "        vertical-align: top;\n",
       "    }\n",
       "\n",
       "    .dataframe thead th {\n",
       "        text-align: right;\n",
       "    }\n",
       "</style>\n",
       "<table border=\"1\" class=\"dataframe\">\n",
       "  <thead>\n",
       "    <tr style=\"text-align: right;\">\n",
       "      <th></th>\n",
       "      <th>Price</th>\n",
       "    </tr>\n",
       "    <tr>\n",
       "      <th>Company</th>\n",
       "      <th></th>\n",
       "    </tr>\n",
       "  </thead>\n",
       "  <tbody>\n",
       "    <tr>\n",
       "      <th>Audi</th>\n",
       "      <td>5</td>\n",
       "    </tr>\n",
       "    <tr>\n",
       "      <th>Ford</th>\n",
       "      <td>6</td>\n",
       "    </tr>\n",
       "    <tr>\n",
       "      <th>VW</th>\n",
       "      <td>1</td>\n",
       "    </tr>\n",
       "    <tr>\n",
       "      <th>All</th>\n",
       "      <td>12</td>\n",
       "    </tr>\n",
       "  </tbody>\n",
       "</table>\n",
       "</div>"
      ],
      "text/plain": [
       "         Price\n",
       "Company       \n",
       "Audi         5\n",
       "Ford         6\n",
       "VW           1\n",
       "All         12"
      ]
     },
     "execution_count": 6,
     "metadata": {},
     "output_type": "execute_result"
    }
   ],
   "source": [
    "x"
   ]
  },
  {
   "cell_type": "code",
   "execution_count": 7,
   "id": "a82077fd",
   "metadata": {},
   "outputs": [
    {
     "data": {
      "text/html": [
       "<div>\n",
       "<style scoped>\n",
       "    .dataframe tbody tr th:only-of-type {\n",
       "        vertical-align: middle;\n",
       "    }\n",
       "\n",
       "    .dataframe tbody tr th {\n",
       "        vertical-align: top;\n",
       "    }\n",
       "\n",
       "    .dataframe thead th {\n",
       "        text-align: right;\n",
       "    }\n",
       "</style>\n",
       "<table border=\"1\" class=\"dataframe\">\n",
       "  <thead>\n",
       "    <tr style=\"text-align: right;\">\n",
       "      <th></th>\n",
       "      <th>Price</th>\n",
       "    </tr>\n",
       "  </thead>\n",
       "  <tbody>\n",
       "    <tr>\n",
       "      <th>Audi</th>\n",
       "      <td>5</td>\n",
       "    </tr>\n",
       "    <tr>\n",
       "      <th>Ford</th>\n",
       "      <td>6</td>\n",
       "    </tr>\n",
       "    <tr>\n",
       "      <th>VW</th>\n",
       "      <td>1</td>\n",
       "    </tr>\n",
       "    <tr>\n",
       "      <th>All</th>\n",
       "      <td>12</td>\n",
       "    </tr>\n",
       "  </tbody>\n",
       "</table>\n",
       "</div>"
      ],
      "text/plain": [
       "      Price\n",
       "Audi      5\n",
       "Ford      6\n",
       "VW        1\n",
       "All      12"
      ]
     },
     "execution_count": 7,
     "metadata": {},
     "output_type": "execute_result"
    }
   ],
   "source": [
    "x.index.name = None\n",
    "x"
   ]
  },
  {
   "cell_type": "code",
   "execution_count": 8,
   "id": "b4f8770b",
   "metadata": {},
   "outputs": [
    {
     "data": {
      "text/html": [
       "<div>\n",
       "<style scoped>\n",
       "    .dataframe tbody tr th:only-of-type {\n",
       "        vertical-align: middle;\n",
       "    }\n",
       "\n",
       "    .dataframe tbody tr th {\n",
       "        vertical-align: top;\n",
       "    }\n",
       "\n",
       "    .dataframe thead th {\n",
       "        text-align: right;\n",
       "    }\n",
       "</style>\n",
       "<table border=\"1\" class=\"dataframe\">\n",
       "  <thead>\n",
       "    <tr style=\"text-align: right;\">\n",
       "      <th></th>\n",
       "      <th></th>\n",
       "      <th>Price</th>\n",
       "    </tr>\n",
       "    <tr>\n",
       "      <th>Company</th>\n",
       "      <th>Made</th>\n",
       "      <th></th>\n",
       "    </tr>\n",
       "  </thead>\n",
       "  <tbody>\n",
       "    <tr>\n",
       "      <th rowspan=\"2\" valign=\"top\">Audi</th>\n",
       "      <th>Correa</th>\n",
       "      <td>2</td>\n",
       "    </tr>\n",
       "    <tr>\n",
       "      <th>UK</th>\n",
       "      <td>3</td>\n",
       "    </tr>\n",
       "    <tr>\n",
       "      <th rowspan=\"2\" valign=\"top\">Ford</th>\n",
       "      <th>China</th>\n",
       "      <td>2</td>\n",
       "    </tr>\n",
       "    <tr>\n",
       "      <th>Mexico</th>\n",
       "      <td>3</td>\n",
       "    </tr>\n",
       "    <tr>\n",
       "      <th>VW</th>\n",
       "      <th>Mexico</th>\n",
       "      <td>1</td>\n",
       "    </tr>\n",
       "  </tbody>\n",
       "</table>\n",
       "</div>"
      ],
      "text/plain": [
       "                Price\n",
       "Company Made         \n",
       "Audi    Correa      2\n",
       "        UK          3\n",
       "Ford    China       2\n",
       "        Mexico      3\n",
       "VW      Mexico      1"
      ]
     },
     "execution_count": 8,
     "metadata": {},
     "output_type": "execute_result"
    }
   ],
   "source": [
    "df.groupby(['Company', 'Made'])[['Price']].sum()"
   ]
  },
  {
   "cell_type": "code",
   "execution_count": 9,
   "id": "d157eeaa",
   "metadata": {},
   "outputs": [
    {
     "data": {
      "text/plain": [
       "2.0"
      ]
     },
     "execution_count": 9,
     "metadata": {},
     "output_type": "execute_result"
    }
   ],
   "source": [
    "df['Price'].mean() # margins depends on aggfunc"
   ]
  },
  {
   "cell_type": "code",
   "execution_count": 10,
   "id": "fb4ccd31",
   "metadata": {},
   "outputs": [
    {
     "data": {
      "text/html": [
       "<div>\n",
       "<style scoped>\n",
       "    .dataframe tbody tr th:only-of-type {\n",
       "        vertical-align: middle;\n",
       "    }\n",
       "\n",
       "    .dataframe tbody tr th {\n",
       "        vertical-align: top;\n",
       "    }\n",
       "\n",
       "    .dataframe thead tr th {\n",
       "        text-align: left;\n",
       "    }\n",
       "\n",
       "    .dataframe thead tr:last-of-type th {\n",
       "        text-align: right;\n",
       "    }\n",
       "</style>\n",
       "<table border=\"1\" class=\"dataframe\">\n",
       "  <thead>\n",
       "    <tr>\n",
       "      <th></th>\n",
       "      <th colspan=\"5\" halign=\"left\">Price</th>\n",
       "      <th colspan=\"5\" halign=\"left\">Weight</th>\n",
       "    </tr>\n",
       "    <tr>\n",
       "      <th>Made</th>\n",
       "      <th>China</th>\n",
       "      <th>Correa</th>\n",
       "      <th>Mexico</th>\n",
       "      <th>UK</th>\n",
       "      <th>All</th>\n",
       "      <th>China</th>\n",
       "      <th>Correa</th>\n",
       "      <th>Mexico</th>\n",
       "      <th>UK</th>\n",
       "      <th>All</th>\n",
       "    </tr>\n",
       "    <tr>\n",
       "      <th>Company</th>\n",
       "      <th></th>\n",
       "      <th></th>\n",
       "      <th></th>\n",
       "      <th></th>\n",
       "      <th></th>\n",
       "      <th></th>\n",
       "      <th></th>\n",
       "      <th></th>\n",
       "      <th></th>\n",
       "      <th></th>\n",
       "    </tr>\n",
       "  </thead>\n",
       "  <tbody>\n",
       "    <tr>\n",
       "      <th>Audi</th>\n",
       "      <td>NaN</td>\n",
       "      <td>2.0</td>\n",
       "      <td>NaN</td>\n",
       "      <td>3.0</td>\n",
       "      <td>5</td>\n",
       "      <td>NaN</td>\n",
       "      <td>2.0</td>\n",
       "      <td>NaN</td>\n",
       "      <td>4.0</td>\n",
       "      <td>6.0</td>\n",
       "    </tr>\n",
       "    <tr>\n",
       "      <th>Ford</th>\n",
       "      <td>2.0</td>\n",
       "      <td>NaN</td>\n",
       "      <td>3.0</td>\n",
       "      <td>NaN</td>\n",
       "      <td>5</td>\n",
       "      <td>4.0</td>\n",
       "      <td>NaN</td>\n",
       "      <td>6.0</td>\n",
       "      <td>NaN</td>\n",
       "      <td>10.0</td>\n",
       "    </tr>\n",
       "    <tr>\n",
       "      <th>VW</th>\n",
       "      <td>NaN</td>\n",
       "      <td>NaN</td>\n",
       "      <td>1.0</td>\n",
       "      <td>NaN</td>\n",
       "      <td>1</td>\n",
       "      <td>NaN</td>\n",
       "      <td>NaN</td>\n",
       "      <td>2.0</td>\n",
       "      <td>NaN</td>\n",
       "      <td>2.0</td>\n",
       "    </tr>\n",
       "    <tr>\n",
       "      <th>All</th>\n",
       "      <td>2.0</td>\n",
       "      <td>2.0</td>\n",
       "      <td>4.0</td>\n",
       "      <td>3.0</td>\n",
       "      <td>11</td>\n",
       "      <td>4.0</td>\n",
       "      <td>2.0</td>\n",
       "      <td>8.0</td>\n",
       "      <td>4.0</td>\n",
       "      <td>18.0</td>\n",
       "    </tr>\n",
       "  </tbody>\n",
       "</table>\n",
       "</div>"
      ],
      "text/plain": [
       "        Price                        Weight                         \n",
       "Made    China Correa Mexico   UK All  China Correa Mexico   UK   All\n",
       "Company                                                             \n",
       "Audi      NaN    2.0    NaN  3.0   5    NaN    2.0    NaN  4.0   6.0\n",
       "Ford      2.0    NaN    3.0  NaN   5    4.0    NaN    6.0  NaN  10.0\n",
       "VW        NaN    NaN    1.0  NaN   1    NaN    NaN    2.0  NaN   2.0\n",
       "All       2.0    2.0    4.0  3.0  11    4.0    2.0    8.0  4.0  18.0"
      ]
     },
     "execution_count": 10,
     "metadata": {},
     "output_type": "execute_result"
    }
   ],
   "source": [
    "pd.pivot_table(df, \n",
    "               index='Company', \n",
    "               values=['Price','Weight'], # will do the average of each a, b, c, d\n",
    "               aggfunc = 'sum',\n",
    "               margins = True,\n",
    "               columns = 'Made'\n",
    "              )#.head()"
   ]
  },
  {
   "cell_type": "markdown",
   "id": "d2f07ffc",
   "metadata": {},
   "source": [
    "### Answer: \n",
    "\n",
    "0 Audi cars made in China"
   ]
  },
  {
   "cell_type": "code",
   "execution_count": 11,
   "id": "81a6e6a4",
   "metadata": {},
   "outputs": [
    {
     "data": {
      "text/html": [
       "<div>\n",
       "<style scoped>\n",
       "    .dataframe tbody tr th:only-of-type {\n",
       "        vertical-align: middle;\n",
       "    }\n",
       "\n",
       "    .dataframe tbody tr th {\n",
       "        vertical-align: top;\n",
       "    }\n",
       "\n",
       "    .dataframe thead th {\n",
       "        text-align: right;\n",
       "    }\n",
       "</style>\n",
       "<table border=\"1\" class=\"dataframe\">\n",
       "  <thead>\n",
       "    <tr style=\"text-align: right;\">\n",
       "      <th></th>\n",
       "      <th>Company</th>\n",
       "      <th>Price</th>\n",
       "      <th>Weight</th>\n",
       "      <th>Length</th>\n",
       "      <th>Made</th>\n",
       "    </tr>\n",
       "  </thead>\n",
       "  <tbody>\n",
       "    <tr>\n",
       "      <th>0</th>\n",
       "      <td>Ford</td>\n",
       "      <td>2</td>\n",
       "      <td>4</td>\n",
       "      <td>6</td>\n",
       "      <td>China</td>\n",
       "    </tr>\n",
       "    <tr>\n",
       "      <th>1</th>\n",
       "      <td>Ford</td>\n",
       "      <td>3</td>\n",
       "      <td>6</td>\n",
       "      <td>9</td>\n",
       "      <td>Mexico</td>\n",
       "    </tr>\n",
       "    <tr>\n",
       "      <th>2</th>\n",
       "      <td>VW</td>\n",
       "      <td>1</td>\n",
       "      <td>2</td>\n",
       "      <td>3</td>\n",
       "      <td>Mexico</td>\n",
       "    </tr>\n",
       "    <tr>\n",
       "      <th>3</th>\n",
       "      <td>Audi</td>\n",
       "      <td>2</td>\n",
       "      <td>2</td>\n",
       "      <td>6</td>\n",
       "      <td>China</td>\n",
       "    </tr>\n",
       "    <tr>\n",
       "      <th>4</th>\n",
       "      <td>Audi</td>\n",
       "      <td>3</td>\n",
       "      <td>4</td>\n",
       "      <td>9</td>\n",
       "      <td>China</td>\n",
       "    </tr>\n",
       "    <tr>\n",
       "      <th>5</th>\n",
       "      <td>Ford</td>\n",
       "      <td>1</td>\n",
       "      <td>3</td>\n",
       "      <td>3</td>\n",
       "      <td>China</td>\n",
       "    </tr>\n",
       "  </tbody>\n",
       "</table>\n",
       "</div>"
      ],
      "text/plain": [
       "  Company  Price  Weight  Length    Made\n",
       "0    Ford      2       4       6   China\n",
       "1    Ford      3       6       9  Mexico\n",
       "2      VW      1       2       3  Mexico\n",
       "3    Audi      2       2       6   China\n",
       "4    Audi      3       4       9   China\n",
       "5    Ford      1       3       3   China"
      ]
     },
     "execution_count": 11,
     "metadata": {},
     "output_type": "execute_result"
    }
   ],
   "source": [
    "x = {'Company': ['Ford', 'Ford', 'VW', 'Audi', 'Audi', 'Ford'], \n",
    "     'Price': [2, 3, 1, 2, 3, 1],\n",
    "     'Weight': [4, 6, 2, 2, 4, 3], \n",
    "     'Length': [6, 9, 3, 6, 9, 3],\n",
    "     'Made': ['China', 'Mexico', 'Mexico', 'China', 'China', 'China']\n",
    "    }\n",
    "df = pd.DataFrame(data = x)\n",
    "df"
   ]
  },
  {
   "cell_type": "code",
   "execution_count": 12,
   "id": "909d241a",
   "metadata": {},
   "outputs": [
    {
     "data": {
      "text/html": [
       "<div>\n",
       "<style scoped>\n",
       "    .dataframe tbody tr th:only-of-type {\n",
       "        vertical-align: middle;\n",
       "    }\n",
       "\n",
       "    .dataframe tbody tr th {\n",
       "        vertical-align: top;\n",
       "    }\n",
       "\n",
       "    .dataframe thead th {\n",
       "        text-align: right;\n",
       "    }\n",
       "</style>\n",
       "<table border=\"1\" class=\"dataframe\">\n",
       "  <thead>\n",
       "    <tr style=\"text-align: right;\">\n",
       "      <th></th>\n",
       "      <th>Company</th>\n",
       "      <th>Price</th>\n",
       "      <th>Weight</th>\n",
       "      <th>Length</th>\n",
       "      <th>Made</th>\n",
       "    </tr>\n",
       "  </thead>\n",
       "  <tbody>\n",
       "    <tr>\n",
       "      <th>0</th>\n",
       "      <td>Ford</td>\n",
       "      <td>2</td>\n",
       "      <td>4</td>\n",
       "      <td>6</td>\n",
       "      <td>China</td>\n",
       "    </tr>\n",
       "    <tr>\n",
       "      <th>1</th>\n",
       "      <td>Ford</td>\n",
       "      <td>3</td>\n",
       "      <td>6</td>\n",
       "      <td>9</td>\n",
       "      <td>Mexico</td>\n",
       "    </tr>\n",
       "    <tr>\n",
       "      <th>2</th>\n",
       "      <td>VW</td>\n",
       "      <td>1</td>\n",
       "      <td>2</td>\n",
       "      <td>3</td>\n",
       "      <td>Mexico</td>\n",
       "    </tr>\n",
       "    <tr>\n",
       "      <th>3</th>\n",
       "      <td>Audi</td>\n",
       "      <td>2</td>\n",
       "      <td>2</td>\n",
       "      <td>6</td>\n",
       "      <td>China</td>\n",
       "    </tr>\n",
       "    <tr>\n",
       "      <th>4</th>\n",
       "      <td>Audi</td>\n",
       "      <td>3</td>\n",
       "      <td>4</td>\n",
       "      <td>9</td>\n",
       "      <td>China</td>\n",
       "    </tr>\n",
       "    <tr>\n",
       "      <th>5</th>\n",
       "      <td>Ford</td>\n",
       "      <td>1</td>\n",
       "      <td>3</td>\n",
       "      <td>3</td>\n",
       "      <td>China</td>\n",
       "    </tr>\n",
       "  </tbody>\n",
       "</table>\n",
       "</div>"
      ],
      "text/plain": [
       "  Company  Price  Weight  Length    Made\n",
       "0    Ford      2       4       6   China\n",
       "1    Ford      3       6       9  Mexico\n",
       "2      VW      1       2       3  Mexico\n",
       "3    Audi      2       2       6   China\n",
       "4    Audi      3       4       9   China\n",
       "5    Ford      1       3       3   China"
      ]
     },
     "execution_count": 12,
     "metadata": {},
     "output_type": "execute_result"
    }
   ],
   "source": [
    "df"
   ]
  },
  {
   "cell_type": "code",
   "execution_count": 13,
   "id": "c969e4b2",
   "metadata": {},
   "outputs": [
    {
     "data": {
      "text/html": [
       "<div>\n",
       "<style scoped>\n",
       "    .dataframe tbody tr th:only-of-type {\n",
       "        vertical-align: middle;\n",
       "    }\n",
       "\n",
       "    .dataframe tbody tr th {\n",
       "        vertical-align: top;\n",
       "    }\n",
       "\n",
       "    .dataframe thead tr th {\n",
       "        text-align: left;\n",
       "    }\n",
       "\n",
       "    .dataframe thead tr:last-of-type th {\n",
       "        text-align: right;\n",
       "    }\n",
       "</style>\n",
       "<table border=\"1\" class=\"dataframe\">\n",
       "  <thead>\n",
       "    <tr>\n",
       "      <th></th>\n",
       "      <th colspan=\"3\" halign=\"left\">Price</th>\n",
       "      <th colspan=\"3\" halign=\"left\">Weight</th>\n",
       "    </tr>\n",
       "    <tr>\n",
       "      <th>Made</th>\n",
       "      <th>China</th>\n",
       "      <th>Mexico</th>\n",
       "      <th>|*|Grand Total|*|</th>\n",
       "      <th>China</th>\n",
       "      <th>Mexico</th>\n",
       "      <th>|*|Grand Total|*|</th>\n",
       "    </tr>\n",
       "    <tr>\n",
       "      <th>Company</th>\n",
       "      <th></th>\n",
       "      <th></th>\n",
       "      <th></th>\n",
       "      <th></th>\n",
       "      <th></th>\n",
       "      <th></th>\n",
       "    </tr>\n",
       "  </thead>\n",
       "  <tbody>\n",
       "    <tr>\n",
       "      <th>Audi</th>\n",
       "      <td>2.5</td>\n",
       "      <td>NaN</td>\n",
       "      <td>2.5</td>\n",
       "      <td>6.0</td>\n",
       "      <td>NaN</td>\n",
       "      <td>6</td>\n",
       "    </tr>\n",
       "    <tr>\n",
       "      <th>Ford</th>\n",
       "      <td>1.5</td>\n",
       "      <td>3.0</td>\n",
       "      <td>2.0</td>\n",
       "      <td>7.0</td>\n",
       "      <td>6.0</td>\n",
       "      <td>13</td>\n",
       "    </tr>\n",
       "    <tr>\n",
       "      <th>VW</th>\n",
       "      <td>NaN</td>\n",
       "      <td>1.0</td>\n",
       "      <td>1.0</td>\n",
       "      <td>NaN</td>\n",
       "      <td>2.0</td>\n",
       "      <td>2</td>\n",
       "    </tr>\n",
       "    <tr>\n",
       "      <th>|*|Grand Total|*|</th>\n",
       "      <td>2.0</td>\n",
       "      <td>2.0</td>\n",
       "      <td>2.0</td>\n",
       "      <td>13.0</td>\n",
       "      <td>8.0</td>\n",
       "      <td>21</td>\n",
       "    </tr>\n",
       "  </tbody>\n",
       "</table>\n",
       "</div>"
      ],
      "text/plain": [
       "                  Price                          Weight         \\\n",
       "Made              China Mexico |*|Grand Total|*|  China Mexico   \n",
       "Company                                                          \n",
       "Audi                2.5    NaN               2.5    6.0    NaN   \n",
       "Ford                1.5    3.0               2.0    7.0    6.0   \n",
       "VW                  NaN    1.0               1.0    NaN    2.0   \n",
       "|*|Grand Total|*|   2.0    2.0               2.0   13.0    8.0   \n",
       "\n",
       "                                     \n",
       "Made              |*|Grand Total|*|  \n",
       "Company                              \n",
       "Audi                              6  \n",
       "Ford                             13  \n",
       "VW                                2  \n",
       "|*|Grand Total|*|                21  "
      ]
     },
     "execution_count": 13,
     "metadata": {},
     "output_type": "execute_result"
    }
   ],
   "source": [
    "pd.pivot_table(df, \n",
    "               index='Company', \n",
    "               values=['Price','Weight'], # will do the average of each a, b, c, d\n",
    "               aggfunc={'Price': np.mean, 'Weight': np.sum},\n",
    "               margins = True,\n",
    "               margins_name='|*|Grand Total|*|',\n",
    "               columns = 'Made'\n",
    "              )#.head()"
   ]
  },
  {
   "cell_type": "code",
   "execution_count": null,
   "id": "ef13fc33",
   "metadata": {
    "scrolled": true
   },
   "outputs": [],
   "source": [
    "import numpy as np\n",
    "import pandas as pd\n",
    "df = pd.read_csv('https://raw.githubusercontent.com/tec03/Datasets/main/datasets/census.csv')\n",
    "#pd.set_option('display.max_columns',500, 'display.max_rows', 500)\n",
    "df.head()"
   ]
  },
  {
   "cell_type": "code",
   "execution_count": null,
   "id": "ed990413",
   "metadata": {},
   "outputs": [],
   "source": [
    "x = df.columns.tolist()\n",
    "x.sort()\n",
    "x"
   ]
  },
  {
   "cell_type": "code",
   "execution_count": null,
   "id": "ffa11800",
   "metadata": {},
   "outputs": [],
   "source": [
    "pd.pivot_table(df, \n",
    "               index='STNAME', \n",
    "               values='BIRTHS2010', \n",
    "               aggfunc='mean'# 'sum', 'median'\n",
    "              ).head()"
   ]
  },
  {
   "cell_type": "code",
   "execution_count": null,
   "id": "cff79fee",
   "metadata": {},
   "outputs": [],
   "source": [
    "a = pd.pivot_table(df, \n",
    "               index='STNAME', \n",
    "               values='BIRTHS2010', \n",
    "               aggfunc='median'\n",
    "               #columns='COUNTY'\n",
    "              )\n",
    "a.head()"
   ]
  },
  {
   "cell_type": "code",
   "execution_count": null,
   "id": "ccb4ab4d",
   "metadata": {},
   "outputs": [],
   "source": [
    "b = pd.pivot_table(df, \n",
    "               index='STNAME', \n",
    "               values=['BIRTHS2010','BIRTHS2011'], \n",
    "               #columns='SUMLEV', # these colums will be aggfunc in 'margins'\n",
    "               aggfunc = 'median',\n",
    "               margins=True # doesnt work if there is no columns. only aggregate the categories of each column\n",
    "              ) #margins gives the 'ALL' at the end and botom \n",
    "b.tail()"
   ]
  },
  {
   "cell_type": "code",
   "execution_count": null,
   "id": "cdfe46e6",
   "metadata": {},
   "outputs": [],
   "source": [
    "df['BIRTHS2010'].describe()"
   ]
  },
  {
   "cell_type": "code",
   "execution_count": null,
   "id": "ee3f948b",
   "metadata": {},
   "outputs": [],
   "source": [
    "b = pd.pivot_table(df, \n",
    "               index='STNAME', \n",
    "               values=['BIRTHS2010','BIRTHS2011'], \n",
    "               columns='SUMLEV', # these colums will be aggfunc in 'margins'\n",
    "               aggfunc = 'mean',\n",
    "               margins=True # margins is NOT SUM of all columns\n",
    "              )  \n",
    "b.tail(2)"
   ]
  },
  {
   "cell_type": "code",
   "execution_count": null,
   "id": "e4abe8b6",
   "metadata": {},
   "outputs": [],
   "source": [
    "df['BIRTHS2010'].describe()"
   ]
  },
  {
   "cell_type": "code",
   "execution_count": null,
   "id": "c7fe8502",
   "metadata": {},
   "outputs": [],
   "source": [
    "print('*'*115)"
   ]
  },
  {
   "cell_type": "code",
   "execution_count": null,
   "id": "f8077d29",
   "metadata": {},
   "outputs": [],
   "source": [
    "df = pd.read_csv('https://github.com/tec03/Datasets/raw/main/datasets/airline_data.csv',  \n",
    "                 low_memory=False\n",
    "                )\n",
    "df.head(3)"
   ]
  },
  {
   "cell_type": "markdown",
   "id": "3698eb50",
   "metadata": {},
   "source": [
    "### In 2019, Quarter 4, how many flights in DepartureDelayGroups -2.0 ? "
   ]
  },
  {
   "cell_type": "code",
   "execution_count": null,
   "id": "a3669604",
   "metadata": {},
   "outputs": [],
   "source": [
    "a = df.columns.tolist()\n",
    "a.sort()\n",
    "a"
   ]
  },
  {
   "cell_type": "code",
   "execution_count": null,
   "id": "19849643",
   "metadata": {},
   "outputs": [],
   "source": [
    "test1 = df.loc[ : , \n",
    "               ['DepDelay','DepartureDelayGroups']\n",
    "              ]"
   ]
  },
  {
   "cell_type": "code",
   "execution_count": null,
   "id": "e42e255e",
   "metadata": {},
   "outputs": [],
   "source": [
    "test2 = df['DepDelay'].min()\n",
    "test3 = df['DepDelay'].max()"
   ]
  },
  {
   "cell_type": "code",
   "execution_count": null,
   "id": "00c7ed92",
   "metadata": {},
   "outputs": [],
   "source": [
    "print(test1,test2, test3)"
   ]
  },
  {
   "cell_type": "code",
   "execution_count": null,
   "id": "0aa55ea6",
   "metadata": {},
   "outputs": [],
   "source": [
    "df.groupby(['DepDelay',\n",
    "            'DepartureDelayGroups'\n",
    "           ]).size()"
   ]
  },
  {
   "cell_type": "code",
   "execution_count": null,
   "id": "cb965f79",
   "metadata": {},
   "outputs": [],
   "source": [
    "pd.pivot_table(df, \n",
    "               index=['Year', 'Quarter'], \n",
    "               values='DepDelay', \n",
    "               columns='DepartureDelayGroups',# these colums will be aggfunc in 'margins'\n",
    "               aggfunc= 'sum',\n",
    "               margins=True\n",
    "              ).tail()"
   ]
  },
  {
   "cell_type": "code",
   "execution_count": null,
   "id": "3d2639ee",
   "metadata": {},
   "outputs": [],
   "source": [
    "pd.pivot_table(df, \n",
    "               index=['Year', 'Quarter'], \n",
    "               values='AirTime', \n",
    "               aggfunc='sum', \n",
    "               margins=True \n",
    "              )  "
   ]
  },
  {
   "cell_type": "code",
   "execution_count": null,
   "id": "fb204e46",
   "metadata": {},
   "outputs": [],
   "source": [
    "data_file = 'datasets/sample_pivot.csv'\n",
    "data = pd.read_csv(data_file)\n",
    "data.head()"
   ]
  },
  {
   "cell_type": "code",
   "execution_count": null,
   "id": "05484d16",
   "metadata": {},
   "outputs": [],
   "source": [
    "sales_pivot = pd.pivot_table(data, \n",
    "                             index='Region',  \n",
    "                             aggfunc=['sum', 'mean','median'],\n",
    "                             values='Units',\n",
    "                            )\n",
    "sales_pivot"
   ]
  },
  {
   "cell_type": "code",
   "execution_count": null,
   "id": "48871b3e",
   "metadata": {},
   "outputs": [],
   "source": [
    "pd.pivot_table(data, \n",
    "               index='Region', \n",
    "               values='Units', \n",
    "               columns='Type', # these colums will be aggfunc in 'margins'\n",
    "               margins = True\n",
    "              )"
   ]
  },
  {
   "cell_type": "code",
   "execution_count": null,
   "id": "d00c3b56",
   "metadata": {},
   "outputs": [],
   "source": [
    "pd.pivot_table(data, \n",
    "               index='Region', \n",
    "               values='Units', \n",
    "               columns='Type', # these colums will be aggfunc in 'margins'\n",
    "               fill_value=0\n",
    "              )"
   ]
  },
  {
   "cell_type": "code",
   "execution_count": null,
   "id": "55d4d9ab",
   "metadata": {},
   "outputs": [],
   "source": [
    "pd.pivot_table(data, \n",
    "               index='Region', \n",
    "               values='Sales', \n",
    "               columns='Type', # these colums will be aggfunc in 'margins'\n",
    "               aggfunc='sum', \n",
    "               margins='sum', \n",
    "               margins_name='Total'\n",
    "              )"
   ]
  },
  {
   "cell_type": "markdown",
   "id": "0676bd23",
   "metadata": {},
   "source": [
    "<!--NAVIGATION-->\n",
    "< [Previous](prev) \n",
    "| [Toc](https://github.com/Egade/ClassNotes) \n",
    "| [Next](nex) >"
   ]
  }
 ],
 "metadata": {
  "kernelspec": {
   "display_name": "Python 3 (ipykernel)",
   "language": "python",
   "name": "python3"
  },
  "language_info": {
   "codemirror_mode": {
    "name": "ipython",
    "version": 3
   },
   "file_extension": ".py",
   "mimetype": "text/x-python",
   "name": "python",
   "nbconvert_exporter": "python",
   "pygments_lexer": "ipython3",
   "version": "3.9.5"
  }
 },
 "nbformat": 4,
 "nbformat_minor": 5
}
