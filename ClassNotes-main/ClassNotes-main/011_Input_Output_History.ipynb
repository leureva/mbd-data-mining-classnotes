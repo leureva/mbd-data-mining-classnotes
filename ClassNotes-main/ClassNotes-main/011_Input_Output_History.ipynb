{
  "cells": [
    {
      "cell_type": "markdown",
      "metadata": {
        "id": "g36USlBrZK_3"
      },
      "source": [
        "# Input and Output History"
      ]
    },
    {
      "cell_type": "markdown",
      "metadata": {
        "id": "1Az0tMeCZK_4"
      },
      "source": [
        "The `shell` allows you to access previous commands with the up and down arrow keys, or equivalently the Ctrl-p/Ctrl-n shortcuts.\n",
        "\n",
        "In both the shell and the notebook, IPython exposes several ways to obtain the output of previous commands, as well as string versions of the commands themselves.\n",
        "\n",
        "We'll explore those here."
      ]
    },
    {
      "cell_type": "code",
      "source": [
        "import math"
      ],
      "metadata": {
        "id": "CWAeWkuZlBqJ"
      },
      "execution_count": 1,
      "outputs": []
    },
    {
      "cell_type": "code",
      "source": [
        "math.cos(90)"
      ],
      "metadata": {
        "colab": {
          "base_uri": "https://localhost:8080/"
        },
        "id": "vDT-Ad0dlFai",
        "outputId": "ba65bffc-9b9a-45f4-91d1-e2ce507dc843"
      },
      "execution_count": 2,
      "outputs": [
        {
          "output_type": "execute_result",
          "data": {
            "text/plain": [
              "-0.4480736161291701"
            ]
          },
          "metadata": {},
          "execution_count": 2
        }
      ]
    },
    {
      "cell_type": "code",
      "source": [
        "math.sin(90)"
      ],
      "metadata": {
        "colab": {
          "base_uri": "https://localhost:8080/"
        },
        "id": "Pvsita0OsuC3",
        "outputId": "ac7e70a9-4539-444b-8b01-ebf144a0aed8"
      },
      "execution_count": 3,
      "outputs": [
        {
          "output_type": "execute_result",
          "data": {
            "text/plain": [
              "0.8939966636005579"
            ]
          },
          "metadata": {},
          "execution_count": 3
        }
      ]
    },
    {
      "cell_type": "markdown",
      "metadata": {
        "id": "-rogQfGRZK_4"
      },
      "source": [
        "## ``In`` and ``Out`` Objects\n",
        "\n",
        "Imagine you start a session that looks like this:\n",
        "\n",
        "```python\n",
        "In [1]: import math\n",
        "\n",
        "In [2]: math.cos(90)\n",
        "Out[2]: -0.4480736161291701\n",
        "\n",
        "In [3]: math.sin(90)\n",
        "Out[3]: 0.8939966636005579\n",
        "```"
      ]
    },
    {
      "cell_type": "markdown",
      "metadata": {
        "id": "ivu72ARaZK_5"
      },
      "source": [
        "* We've imported the built-in ``math`` package\n",
        "* Then computed the `sine` and the `cosine` of the number 90.\n",
        "\n",
        "These inputs and outputs are displayed in the shell with ``In``/``Out`` labels\n",
        "\n",
        "IPython actually creates some Python variables called ``In`` and ``Out`` that are automatically updated to reflect this history:\n",
        "\n",
        "```ipython\n",
        "In [4]: print(In)\n",
        "['', 'import math', 'math.cos(90)', 'math.sin(90)', 'print(In)']\n",
        "\n",
        "In [5]: Out\n",
        "Out[5]: {2: -0.4480736161291701, 3: 0.8939966636005579}\n",
        "```"
      ]
    },
    {
      "cell_type": "code",
      "source": [
        "In"
      ],
      "metadata": {
        "colab": {
          "base_uri": "https://localhost:8080/"
        },
        "id": "l3HTxXMemfbJ",
        "outputId": "785052e8-8487-4afc-d9ed-c5bcc051f27e"
      },
      "execution_count": 4,
      "outputs": [
        {
          "output_type": "execute_result",
          "data": {
            "text/plain": [
              "['', 'import math', 'math.cos(90)', 'math.sin(90)', 'In']"
            ]
          },
          "metadata": {},
          "execution_count": 4
        }
      ]
    },
    {
      "cell_type": "markdown",
      "source": [
        "The ``In`` object is a list, which keeps track of the commands in order (the first item in the list is a place-holder so that ``In[1]`` can refer to the first command):\n",
        "\n",
        "```ipython\n",
        "In [6]: print(In[1])\n",
        "import math\n",
        "```"
      ],
      "metadata": {
        "id": "-PYR1lGum2IZ"
      }
    },
    {
      "cell_type": "code",
      "source": [
        "Out[2]"
      ],
      "metadata": {
        "colab": {
          "base_uri": "https://localhost:8080/"
        },
        "id": "_P8iB-o1mhXa",
        "outputId": "88c561c8-74c8-4fbf-ebf6-c2a771787a84"
      },
      "execution_count": 5,
      "outputs": [
        {
          "output_type": "execute_result",
          "data": {
            "text/plain": [
              "-0.4480736161291701"
            ]
          },
          "metadata": {},
          "execution_count": 5
        }
      ]
    },
    {
      "cell_type": "markdown",
      "metadata": {
        "id": "RePawBfIZK_5"
      },
      "source": [
        "The ``Out`` object is not a list but a dictionary mapping input numbers to their outputs (if any):\n",
        "\n",
        "```ipython\n",
        "In [7]: print(Out[2])\n",
        "-0.4480736161291701\n",
        "```"
      ]
    },
    {
      "cell_type": "markdown",
      "source": [
        "Note that not all operations have outputs: \n",
        "\n",
        "For example, ``import`` statements and ``print`` statements don't affect the output.\n",
        "\n",
        "The latter may be surprising, but makes sense if you consider that ``print`` is a function that returns ``None``\n",
        "    \n",
        "  * For brevity, any command that returns ``None`` is not added to ``Out``.\n",
        "\n",
        "Where this can be useful is if you want to interact with past results.\n",
        "\n",
        "\n",
        "For example, let's check the sum of ``sin(90) ** 2`` and ``cos(90) ** 2`` using the previously-computed results:\n",
        "\n",
        "```ipython\n",
        "In [8]: Out[2] ** 2 + Out[3] ** 2\n",
        "Out[8]: 1.0\n",
        "```\n",
        "\n",
        "The result is ``1.0`` as we'd expect from the well-known trigonometric identity.\n",
        "In this case, using these previous results probably is not necessary, but it can become very handy if you execute a very expensive computation and want to reuse the result!"
      ],
      "metadata": {
        "id": "WjZS7RHEm6vj"
      }
    },
    {
      "cell_type": "markdown",
      "metadata": {
        "id": "aco84198ZK_6"
      },
      "source": [
        "## Underscore Shortcuts and Previous Outputs\n",
        "\n",
        "The standard Python shell contains just one simple shortcut for accessing previous output. \n",
        "* The variable ``_`` (i.e., a single underscore) is kept updated with the previous output\n",
        "\n",
        "This works in IPython as well:\n",
        "\n",
        "```ipython\n",
        "In [9]: print(_)\n",
        "1.0\n",
        "```\n",
        "\n",
        "But IPython takes this a bit further. \n",
        "\n",
        "* A double underscore to access the second-to-last output\n",
        "* A triple underscore to access the third-to-last output (skipping any commands with no output):\n",
        " \n",
        "\n",
        "IPython stops there: more than three underscores starts to get a bit hard to count, and at that point it's easier to refer to the output by line number.\n",
        "\n",
        "There is one more shortcut we should mention, however–a shorthand for ``Out[X]`` is ``_X`` (i.e., a single underscore followed by the line number):"
      ]
    },
    {
      "cell_type": "markdown",
      "source": [
        "Note:  the second output of this page is 'Out'. so all the outputs will be shown. "
      ],
      "metadata": {
        "id": "kcUA57UkqFQl"
      }
    },
    {
      "cell_type": "code",
      "source": [
        "a = 0\n",
        "a"
      ],
      "metadata": {
        "colab": {
          "base_uri": "https://localhost:8080/"
        },
        "id": "w7vkdyjjoMFn",
        "outputId": "6d2ffa3d-23bd-473e-eba1-e1d1fbae6689"
      },
      "execution_count": 6,
      "outputs": [
        {
          "output_type": "execute_result",
          "data": {
            "text/plain": [
              "0"
            ]
          },
          "metadata": {},
          "execution_count": 6
        }
      ]
    },
    {
      "cell_type": "code",
      "source": [
        "b=5\n",
        "b"
      ],
      "metadata": {
        "colab": {
          "base_uri": "https://localhost:8080/"
        },
        "collapsed": true,
        "id": "DwVThkw0oPxI",
        "outputId": "0fd73e7f-2a2d-4e24-d17a-3e8777d13191"
      },
      "execution_count": 7,
      "outputs": [
        {
          "output_type": "execute_result",
          "data": {
            "text/plain": [
              "5"
            ]
          },
          "metadata": {},
          "execution_count": 7
        }
      ]
    },
    {
      "cell_type": "code",
      "source": [
        "x = 2\n",
        "x"
      ],
      "metadata": {
        "colab": {
          "base_uri": "https://localhost:8080/"
        },
        "id": "AiU4LKf-oSMD",
        "outputId": "8810b0f7-64fa-4fbc-b91f-8557121b95da"
      },
      "execution_count": 8,
      "outputs": [
        {
          "output_type": "execute_result",
          "data": {
            "text/plain": [
              "2"
            ]
          },
          "metadata": {},
          "execution_count": 8
        }
      ]
    },
    {
      "cell_type": "code",
      "source": [
        "print(_7) "
      ],
      "metadata": {
        "colab": {
          "base_uri": "https://localhost:8080/"
        },
        "id": "4JrFD6b6oWdX",
        "outputId": "ed94229e-8019-4099-f6f0-a877a3a1470a"
      },
      "execution_count": 9,
      "outputs": [
        {
          "output_type": "stream",
          "name": "stdout",
          "text": [
            "5\n"
          ]
        }
      ]
    },
    {
      "cell_type": "markdown",
      "metadata": {
        "id": "HYnrJy99ZK_7"
      },
      "source": [
        "## Suppressing Output\n",
        "Sometimes you might wish to suppress the output of a statement.\n",
        "Or maybe the command you're executing produces a result that you'd prefer not like to store in your output history, perhaps so that it can be deallocated when other references are removed.\n",
        "\n",
        "The easiest way to suppress the output of a command is to add a `semicolon` to the end of the line:\n",
        "\n",
        "```ipython\n",
        "In [14]: math.sin(2) + math.cos(2);\n",
        "```\n",
        "\n",
        "* The result is computed silently, and \n",
        "* The output is neither displayed on the screen nor stored in the ``Out`` dictionary:\n",
        "\n",
        "```ipython\n",
        "In [15]: 14 in Out\n",
        "Out[15]: False\n",
        "```"
      ]
    },
    {
      "cell_type": "markdown",
      "source": [
        "Checking: "
      ],
      "metadata": {
        "id": "w0Jj5-hFrApR"
      }
    },
    {
      "cell_type": "code",
      "source": [
        "math.sin(2) + math.cos(2)"
      ],
      "metadata": {
        "colab": {
          "base_uri": "https://localhost:8080/"
        },
        "id": "zgrGUQY1q7sx",
        "outputId": "7eb0308d-29cb-4dbd-ef36-6832352b59c2"
      },
      "execution_count": 10,
      "outputs": [
        {
          "output_type": "execute_result",
          "data": {
            "text/plain": [
              "0.4931505902785393"
            ]
          },
          "metadata": {},
          "execution_count": 10
        }
      ]
    },
    {
      "cell_type": "code",
      "source": [
        "0.4931505902785393 in Out"
      ],
      "metadata": {
        "colab": {
          "base_uri": "https://localhost:8080/"
        },
        "id": "xpfPFC72q92j",
        "outputId": "6e614cae-0b2f-4995-ec82-3170db7d44c9"
      },
      "execution_count": 11,
      "outputs": [
        {
          "output_type": "execute_result",
          "data": {
            "text/plain": [
              "False"
            ]
          },
          "metadata": {},
          "execution_count": 11
        }
      ]
    },
    {
      "cell_type": "markdown",
      "metadata": {
        "id": "fhDcdl-cZK_7"
      },
      "source": [
        "## Related Magic Commands\n",
        "For accessing a batch of previous inputs at once, the ``%history`` magic command is very helpful.\n",
        "\n",
        "Here is how you can print the first four inputs:\n",
        "\n",
        "```ipython\n",
        "In [16]: %history -n 1-4\n",
        "   1: import math\n",
        "   2: math.cos(90)\n",
        "   3: math.sin(90)\n",
        "   4: In\n",
        "```\n",
        "\n",
        "As usual, you can type ``%history?`` for more information and a description of options available.\n",
        "\n",
        "\n",
        "For more information, I suggest exploring these using the ``?`` help functionality."
      ]
    },
    {
      "cell_type": "markdown",
      "metadata": {
        "id": "8AgPbhyIZK_8"
      },
      "source": [
        "<!--NAVIGATION-->\n",
        "< [Previous](https://github.com/Egade/ClassNotes/blob/main/010_intro.pdf) | [toc](https://github.com/Egade/ClassNotes) | [Next](https://github.com/Egade/ClassNotes/blob/main/012_data_types.ipynb) >\n"
      ]
    }
  ],
  "metadata": {
    "anaconda-cloud": {},
    "kernelspec": {
      "display_name": "Python 3",
      "language": "python",
      "name": "python3"
    },
    "language_info": {
      "codemirror_mode": {
        "name": "ipython",
        "version": 3
      },
      "file_extension": ".py",
      "mimetype": "text/x-python",
      "name": "python",
      "nbconvert_exporter": "python",
      "pygments_lexer": "ipython3",
      "version": "3.5.1"
    },
    "colab": {
      "provenance": []
    }
  },
  "nbformat": 4,
  "nbformat_minor": 0
}
